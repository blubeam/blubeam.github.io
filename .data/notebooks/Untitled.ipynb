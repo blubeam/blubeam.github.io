{
 "cells": [
  {
   "cell_type": "code",
   "execution_count": 4,
   "id": "53ff8b96-aa7d-41e3-812a-5534fe030d0b",
   "metadata": {},
   "outputs": [],
   "source": [
    "import requests, csv"
   ]
  },
  {
   "cell_type": "code",
   "execution_count": 5,
   "id": "ef3918cb-5ca5-42b2-865f-c952364d7fc7",
   "metadata": {},
   "outputs": [],
   "source": [
    "#loading the data into array\n",
    "r = open(\"nbn_records.csv\")\n",
    "records = []\n",
    "for x in csv.reader(r):\n",
    "    records.append(x)"
   ]
  },
  {
   "cell_type": "code",
   "execution_count": 28,
   "id": "906cd7ef-d481-49b2-9056-0db278425224",
   "metadata": {},
   "outputs": [
    {
     "name": "stdout",
     "output_type": "stream",
     "text": [
      "['NBN Atlas record ID', 'Occurrence ID', 'Licence', 'Rightsholder', 'Scientific name', 'Taxon author', 'Name qualifier', 'Common name', 'Species ID (TVK)', 'Taxon Rank', 'Occurrence status', 'Start date', 'Start date day', 'Start date month', 'Start date year', 'End date', 'End date day', 'End date month', 'End date year', 'Locality', 'OSGR', 'Latitude (WGS84)', 'Longitude (WGS84)', 'Coordinate uncertainty (m)', 'Verbatim depth', 'Recorder', 'Determiner', 'Individual count', 'Abundance', 'Abundance scale', 'Organism scope', 'Organism remarks', 'Sex', 'Life stage', 'Occurrence remarks', 'Identification verification status', 'Basis of record', 'Survey key', 'Dataset name', 'Dataset ID', 'Data provider', 'Data provider ID', 'Institution code', 'Kingdom', 'Phylum', 'Class', 'Order', 'Family', 'Genus', 'OSGR 100km', 'OSGR 10km', 'OSGR 2km', 'OSGR 1km', 'Country', 'State/Province', 'Vitality']\n"
     ]
    }
   ],
   "source": [
    "#headers of all the data\n",
    "print(records[0])"
   ]
  },
  {
   "cell_type": "code",
   "execution_count": 7,
   "id": "f9e3caae-9bb3-46e6-b6e1-86491bb47b47",
   "metadata": {},
   "outputs": [
    {
     "name": "stdout",
     "output_type": "stream",
     "text": [
      "Locality\n",
      "\n"
     ]
    }
   ],
   "source": [
    "#show unique data points\n",
    "cur = []\n",
    "datapoint = \n",
    "\n",
    "for x in range(len(records)):\n",
    "    if records[x][datapoint] in cur:\n",
    "        continue\n",
    "    else:\n",
    "        cur.append(records[x][datapoint])\n",
    "        print(cur[len(cur)-1])"
   ]
  },
  {
   "cell_type": "code",
   "execution_count": 2,
   "id": "399049bc-257e-43a4-9063-69bd10804824",
   "metadata": {},
   "outputs": [
    {
     "ename": "NameError",
     "evalue": "name 'records' is not defined",
     "output_type": "error",
     "traceback": [
      "\u001b[0;31m---------------------------------------------------------------------------\u001b[0m",
      "\u001b[0;31mNameError\u001b[0m                                 Traceback (most recent call last)",
      "Cell \u001b[0;32mIn[2], line 4\u001b[0m\n\u001b[1;32m      2\u001b[0m usual_suspects \u001b[38;5;241m=\u001b[39m ( \u001b[38;5;124m\"\u001b[39m\u001b[38;5;124mRoyal Society for the Protection of Birds\u001b[39m\u001b[38;5;124m\"\u001b[39m,\u001b[38;5;124m\"\u001b[39m\u001b[38;5;124mWelsh Government\u001b[39m\u001b[38;5;124m\"\u001b[39m,\u001b[38;5;124m\"\u001b[39m\u001b[38;5;124mScottish Wildlife Trust\u001b[39m\u001b[38;5;124m\"\u001b[39m,\u001b[38;5;124m\"\u001b[39m\u001b[38;5;124mNational Trust\u001b[39m\u001b[38;5;124m\"\u001b[39m)\n\u001b[1;32m      3\u001b[0m y,org_names \u001b[38;5;241m=\u001b[39m [],[]\n\u001b[0;32m----> 4\u001b[0m \u001b[38;5;28;01mfor\u001b[39;00m x \u001b[38;5;129;01min\u001b[39;00m \u001b[38;5;28mrange\u001b[39m(\u001b[38;5;28mlen\u001b[39m(\u001b[43mrecords\u001b[49m)):\n\u001b[1;32m      5\u001b[0m     \u001b[38;5;28;01mif\u001b[39;00m records[x][\u001b[38;5;241m40\u001b[39m] \u001b[38;5;129;01mnot\u001b[39;00m \u001b[38;5;129;01min\u001b[39;00m usual_suspects:\n\u001b[1;32m      6\u001b[0m         \u001b[38;5;28mprint\u001b[39m(records[x][\u001b[38;5;241m40\u001b[39m])\n",
      "\u001b[0;31mNameError\u001b[0m: name 'records' is not defined"
     ]
    }
   ],
   "source": [
    "#just solved this way better above lol\n",
    "usual_suspects = ( \"Royal Society for the Protection of Birds\",\"Welsh Government\",\"Scottish Wildlife Trust\",\"National Trust\")\n",
    "y,org_names = [],[]\n",
    "for x in range(len(records)):\n",
    "    if records[x][40] not in usual_suspects:\n",
    "        print(records[x][40])\n"
   ]
  },
  {
   "cell_type": "code",
   "execution_count": 77,
   "id": "43d058e6-3d33-4e1f-a66e-d62bdb446e01",
   "metadata": {},
   "outputs": [
    {
     "name": "stdout",
     "output_type": "stream",
     "text": [
      "False\n"
     ]
    }
   ],
   "source": [
    "x = [\"a\",\"b\",\"c\"]\n",
    "y = [\"a\",\"b\"]\n",
    "print(y in x)\n"
   ]
  },
  {
   "cell_type": "code",
   "execution_count": 18,
   "id": "47050672-50a0-4a78-8a46-041b7f908cfb",
   "metadata": {},
   "outputs": [
    {
     "data": {
      "text/plain": [
       "range(0, 56)"
      ]
     },
     "execution_count": 18,
     "metadata": {},
     "output_type": "execute_result"
    }
   ],
   "source": [
    "range(len(records[0]))"
   ]
  },
  {
   "cell_type": "code",
   "execution_count": 24,
   "id": "ef7d9617-6e57-4663-b697-0ac94e5d25c5",
   "metadata": {},
   "outputs": [
    {
     "ename": "ValueError",
     "evalue": "too many values to unpack (expected 2)",
     "output_type": "error",
     "traceback": [
      "\u001b[0;31m---------------------------------------------------------------------------\u001b[0m",
      "\u001b[0;31mValueError\u001b[0m                                Traceback (most recent call last)",
      "Cell \u001b[0;32mIn[24], line 1\u001b[0m\n\u001b[0;32m----> 1\u001b[0m \u001b[38;5;28;01mfor\u001b[39;00m p,q \u001b[38;5;129;01min\u001b[39;00m records[\u001b[38;5;241m0\u001b[39m],\u001b[38;5;28mrange\u001b[39m(\u001b[38;5;28mlen\u001b[39m(records[\u001b[38;5;241m0\u001b[39m])\u001b[38;5;241m-\u001b[39m\u001b[38;5;241m2\u001b[39m):\n\u001b[1;32m      2\u001b[0m     \u001b[38;5;28mprint\u001b[39m(x,y)\n",
      "\u001b[0;31mValueError\u001b[0m: too many values to unpack (expected 2)"
     ]
    }
   ],
   "source": [
    "for p,q in records[0],range(len(records[0])):\n",
    "    print(x,y)"
   ]
  },
  {
   "cell_type": "code",
   "execution_count": 29,
   "id": "91983f0e-fbf2-4473-a2d2-f85b83114b6f",
   "metadata": {},
   "outputs": [
    {
     "ename": "SyntaxError",
     "evalue": "invalid syntax (1426847447.py, line 3)",
     "output_type": "error",
     "traceback": [
      "\u001b[0;36m  Cell \u001b[0;32mIn[29], line 3\u001b[0;36m\u001b[0m\n\u001b[0;31m    for r in x y:\u001b[0m\n\u001b[0m               ^\u001b[0m\n\u001b[0;31mSyntaxError\u001b[0m\u001b[0;31m:\u001b[0m invalid syntax\n"
     ]
    }
   ],
   "source": [
    "x = [1,2,3]\n",
    "y = [4,5,6]\n",
    "for r in x y:\n",
    "    print(r)"
   ]
  },
  {
   "cell_type": "code",
   "execution_count": 30,
   "id": "0a44a214-d405-43f2-803f-b709461d27b6",
   "metadata": {},
   "outputs": [
    {
     "ename": "TypeError",
     "evalue": "'list' object cannot be interpreted as an integer",
     "output_type": "error",
     "traceback": [
      "\u001b[0;31m---------------------------------------------------------------------------\u001b[0m",
      "\u001b[0;31mTypeError\u001b[0m                                 Traceback (most recent call last)",
      "Cell \u001b[0;32mIn[30], line 1\u001b[0m\n\u001b[0;32m----> 1\u001b[0m \u001b[38;5;28mdict\u001b[39m(\u001b[38;5;28mzip\u001b[39m(\u001b[38;5;28;43mrange\u001b[39;49m\u001b[43m(\u001b[49m\u001b[43mrecords\u001b[49m\u001b[43m[\u001b[49m\u001b[38;5;241;43m0\u001b[39;49m\u001b[43m]\u001b[49m\u001b[43m)\u001b[49m,records[\u001b[38;5;241m0\u001b[39m]))\n",
      "\u001b[0;31mTypeError\u001b[0m: 'list' object cannot be interpreted as an integer"
     ]
    }
   ],
   "source": [
    "dict(zip(range(records[0]),records[0]))"
   ]
  },
  {
   "cell_type": "code",
   "execution_count": null,
   "id": "7fee97fe-9fa3-443f-a12a-fa99a6db8a58",
   "metadata": {},
   "outputs": [],
   "source": []
  }
 ],
 "metadata": {
  "kernelspec": {
   "display_name": "Python 3 (ipykernel)",
   "language": "python",
   "name": "python3"
  },
  "language_info": {
   "codemirror_mode": {
    "name": "ipython",
    "version": 3
   },
   "file_extension": ".py",
   "mimetype": "text/x-python",
   "name": "python",
   "nbconvert_exporter": "python",
   "pygments_lexer": "ipython3",
   "version": "3.11.5"
  }
 },
 "nbformat": 4,
 "nbformat_minor": 5
}
